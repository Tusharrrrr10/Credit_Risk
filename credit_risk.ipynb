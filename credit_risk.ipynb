{
 "cells": [
  {
   "cell_type": "code",
   "execution_count": 103,
   "id": "cd4eeb04-45f4-44d4-b3d9-a7d65e4943f8",
   "metadata": {},
   "outputs": [
    {
     "name": "stdout",
     "output_type": "stream",
     "text": [
      "C:\\Users\\Mishra\\Project\n"
     ]
    }
   ],
   "source": [
    "import pandas as pd\n",
    "import numpy as np\n",
    "import seaborn as sns\n",
    "import matplotlib.pyplot as plt\n",
    "import warnings\n",
    "warnings.filterwarnings(\"ignore\")"
   ]
  },
  {
   "cell_type": "code",
   "execution_count": 104,
   "id": "fde40fa2-2c51-4677-8548-3d518100fe45",
   "metadata": {},
   "outputs": [],
   "source": [
    "df=pd.read_csv(r\"C:\\Users\\Mishra\\Downloads\\credit_risk.csv\",index_col=0)"
   ]
  },
  {
   "cell_type": "code",
   "execution_count": 105,
   "id": "9cf8b632-68a1-4883-a1a8-75cf1edfd900",
   "metadata": {},
   "outputs": [
    {
     "data": {
      "text/html": [
       "<div>\n",
       "<style scoped>\n",
       "    .dataframe tbody tr th:only-of-type {\n",
       "        vertical-align: middle;\n",
       "    }\n",
       "\n",
       "    .dataframe tbody tr th {\n",
       "        vertical-align: top;\n",
       "    }\n",
       "\n",
       "    .dataframe thead th {\n",
       "        text-align: right;\n",
       "    }\n",
       "</style>\n",
       "<table border=\"1\" class=\"dataframe\">\n",
       "  <thead>\n",
       "    <tr style=\"text-align: right;\">\n",
       "      <th></th>\n",
       "      <th>Age</th>\n",
       "      <th>Income</th>\n",
       "      <th>Home</th>\n",
       "      <th>Emp_length</th>\n",
       "      <th>Intent</th>\n",
       "      <th>Amount</th>\n",
       "      <th>Rate</th>\n",
       "      <th>Status</th>\n",
       "      <th>Percent_income</th>\n",
       "      <th>Default</th>\n",
       "      <th>Cred_length</th>\n",
       "    </tr>\n",
       "    <tr>\n",
       "      <th>Id</th>\n",
       "      <th></th>\n",
       "      <th></th>\n",
       "      <th></th>\n",
       "      <th></th>\n",
       "      <th></th>\n",
       "      <th></th>\n",
       "      <th></th>\n",
       "      <th></th>\n",
       "      <th></th>\n",
       "      <th></th>\n",
       "      <th></th>\n",
       "    </tr>\n",
       "  </thead>\n",
       "  <tbody>\n",
       "    <tr>\n",
       "      <th>0</th>\n",
       "      <td>22</td>\n",
       "      <td>59000</td>\n",
       "      <td>RENT</td>\n",
       "      <td>123.0</td>\n",
       "      <td>PERSONAL</td>\n",
       "      <td>35000</td>\n",
       "      <td>16.02</td>\n",
       "      <td>1</td>\n",
       "      <td>0.59</td>\n",
       "      <td>Y</td>\n",
       "      <td>3</td>\n",
       "    </tr>\n",
       "    <tr>\n",
       "      <th>1</th>\n",
       "      <td>21</td>\n",
       "      <td>9600</td>\n",
       "      <td>OWN</td>\n",
       "      <td>5.0</td>\n",
       "      <td>EDUCATION</td>\n",
       "      <td>1000</td>\n",
       "      <td>11.14</td>\n",
       "      <td>0</td>\n",
       "      <td>0.10</td>\n",
       "      <td>N</td>\n",
       "      <td>2</td>\n",
       "    </tr>\n",
       "    <tr>\n",
       "      <th>2</th>\n",
       "      <td>25</td>\n",
       "      <td>9600</td>\n",
       "      <td>MORTGAGE</td>\n",
       "      <td>1.0</td>\n",
       "      <td>MEDICAL</td>\n",
       "      <td>5500</td>\n",
       "      <td>12.87</td>\n",
       "      <td>1</td>\n",
       "      <td>0.57</td>\n",
       "      <td>N</td>\n",
       "      <td>3</td>\n",
       "    </tr>\n",
       "    <tr>\n",
       "      <th>3</th>\n",
       "      <td>23</td>\n",
       "      <td>65500</td>\n",
       "      <td>RENT</td>\n",
       "      <td>4.0</td>\n",
       "      <td>MEDICAL</td>\n",
       "      <td>35000</td>\n",
       "      <td>15.23</td>\n",
       "      <td>1</td>\n",
       "      <td>0.53</td>\n",
       "      <td>N</td>\n",
       "      <td>2</td>\n",
       "    </tr>\n",
       "    <tr>\n",
       "      <th>4</th>\n",
       "      <td>24</td>\n",
       "      <td>54400</td>\n",
       "      <td>RENT</td>\n",
       "      <td>8.0</td>\n",
       "      <td>MEDICAL</td>\n",
       "      <td>35000</td>\n",
       "      <td>14.27</td>\n",
       "      <td>1</td>\n",
       "      <td>0.55</td>\n",
       "      <td>Y</td>\n",
       "      <td>4</td>\n",
       "    </tr>\n",
       "    <tr>\n",
       "      <th>...</th>\n",
       "      <td>...</td>\n",
       "      <td>...</td>\n",
       "      <td>...</td>\n",
       "      <td>...</td>\n",
       "      <td>...</td>\n",
       "      <td>...</td>\n",
       "      <td>...</td>\n",
       "      <td>...</td>\n",
       "      <td>...</td>\n",
       "      <td>...</td>\n",
       "      <td>...</td>\n",
       "    </tr>\n",
       "    <tr>\n",
       "      <th>32576</th>\n",
       "      <td>57</td>\n",
       "      <td>53000</td>\n",
       "      <td>MORTGAGE</td>\n",
       "      <td>1.0</td>\n",
       "      <td>PERSONAL</td>\n",
       "      <td>5800</td>\n",
       "      <td>13.16</td>\n",
       "      <td>0</td>\n",
       "      <td>0.11</td>\n",
       "      <td>N</td>\n",
       "      <td>30</td>\n",
       "    </tr>\n",
       "    <tr>\n",
       "      <th>32577</th>\n",
       "      <td>54</td>\n",
       "      <td>120000</td>\n",
       "      <td>MORTGAGE</td>\n",
       "      <td>4.0</td>\n",
       "      <td>PERSONAL</td>\n",
       "      <td>17625</td>\n",
       "      <td>7.49</td>\n",
       "      <td>0</td>\n",
       "      <td>0.15</td>\n",
       "      <td>N</td>\n",
       "      <td>19</td>\n",
       "    </tr>\n",
       "    <tr>\n",
       "      <th>32578</th>\n",
       "      <td>65</td>\n",
       "      <td>76000</td>\n",
       "      <td>RENT</td>\n",
       "      <td>3.0</td>\n",
       "      <td>HOMEIMPROVEMENT</td>\n",
       "      <td>35000</td>\n",
       "      <td>10.99</td>\n",
       "      <td>1</td>\n",
       "      <td>0.46</td>\n",
       "      <td>N</td>\n",
       "      <td>28</td>\n",
       "    </tr>\n",
       "    <tr>\n",
       "      <th>32579</th>\n",
       "      <td>56</td>\n",
       "      <td>150000</td>\n",
       "      <td>MORTGAGE</td>\n",
       "      <td>5.0</td>\n",
       "      <td>PERSONAL</td>\n",
       "      <td>15000</td>\n",
       "      <td>11.48</td>\n",
       "      <td>0</td>\n",
       "      <td>0.10</td>\n",
       "      <td>N</td>\n",
       "      <td>26</td>\n",
       "    </tr>\n",
       "    <tr>\n",
       "      <th>32780</th>\n",
       "      <td>66</td>\n",
       "      <td>42000</td>\n",
       "      <td>RENT</td>\n",
       "      <td>2.0</td>\n",
       "      <td>MEDICAL</td>\n",
       "      <td>6475</td>\n",
       "      <td>9.99</td>\n",
       "      <td>0</td>\n",
       "      <td>0.15</td>\n",
       "      <td>N</td>\n",
       "      <td>30</td>\n",
       "    </tr>\n",
       "  </tbody>\n",
       "</table>\n",
       "<p>32581 rows × 11 columns</p>\n",
       "</div>"
      ],
      "text/plain": [
       "       Age  Income      Home  Emp_length           Intent  Amount   Rate  \\\n",
       "Id                                                                         \n",
       "0       22   59000      RENT       123.0         PERSONAL   35000  16.02   \n",
       "1       21    9600       OWN         5.0        EDUCATION    1000  11.14   \n",
       "2       25    9600  MORTGAGE         1.0          MEDICAL    5500  12.87   \n",
       "3       23   65500      RENT         4.0          MEDICAL   35000  15.23   \n",
       "4       24   54400      RENT         8.0          MEDICAL   35000  14.27   \n",
       "...    ...     ...       ...         ...              ...     ...    ...   \n",
       "32576   57   53000  MORTGAGE         1.0         PERSONAL    5800  13.16   \n",
       "32577   54  120000  MORTGAGE         4.0         PERSONAL   17625   7.49   \n",
       "32578   65   76000      RENT         3.0  HOMEIMPROVEMENT   35000  10.99   \n",
       "32579   56  150000  MORTGAGE         5.0         PERSONAL   15000  11.48   \n",
       "32780   66   42000      RENT         2.0          MEDICAL    6475   9.99   \n",
       "\n",
       "       Status  Percent_income Default  Cred_length  \n",
       "Id                                                  \n",
       "0           1            0.59       Y            3  \n",
       "1           0            0.10       N            2  \n",
       "2           1            0.57       N            3  \n",
       "3           1            0.53       N            2  \n",
       "4           1            0.55       Y            4  \n",
       "...       ...             ...     ...          ...  \n",
       "32576       0            0.11       N           30  \n",
       "32577       0            0.15       N           19  \n",
       "32578       1            0.46       N           28  \n",
       "32579       0            0.10       N           26  \n",
       "32780       0            0.15       N           30  \n",
       "\n",
       "[32581 rows x 11 columns]"
      ]
     },
     "execution_count": 105,
     "metadata": {},
     "output_type": "execute_result"
    }
   ],
   "source": [
    "df"
   ]
  },
  {
   "cell_type": "code",
   "execution_count": 106,
   "id": "e451f174-355d-4708-a660-058906c8f360",
   "metadata": {},
   "outputs": [
    {
     "data": {
      "text/html": [
       "<div>\n",
       "<style scoped>\n",
       "    .dataframe tbody tr th:only-of-type {\n",
       "        vertical-align: middle;\n",
       "    }\n",
       "\n",
       "    .dataframe tbody tr th {\n",
       "        vertical-align: top;\n",
       "    }\n",
       "\n",
       "    .dataframe thead th {\n",
       "        text-align: right;\n",
       "    }\n",
       "</style>\n",
       "<table border=\"1\" class=\"dataframe\">\n",
       "  <thead>\n",
       "    <tr style=\"text-align: right;\">\n",
       "      <th></th>\n",
       "      <th>Age</th>\n",
       "      <th>Income</th>\n",
       "      <th>Home</th>\n",
       "      <th>Emp_length</th>\n",
       "      <th>Intent</th>\n",
       "      <th>Amount</th>\n",
       "      <th>Rate</th>\n",
       "      <th>Status</th>\n",
       "      <th>Percent_income</th>\n",
       "      <th>Default</th>\n",
       "      <th>Cred_length</th>\n",
       "    </tr>\n",
       "  </thead>\n",
       "  <tbody>\n",
       "    <tr>\n",
       "      <th>count</th>\n",
       "      <td>32581.000000</td>\n",
       "      <td>3.258100e+04</td>\n",
       "      <td>32581</td>\n",
       "      <td>31686.000000</td>\n",
       "      <td>32581</td>\n",
       "      <td>32581.000000</td>\n",
       "      <td>29465.000000</td>\n",
       "      <td>32581.000000</td>\n",
       "      <td>32581.000000</td>\n",
       "      <td>32581</td>\n",
       "      <td>32581.000000</td>\n",
       "    </tr>\n",
       "    <tr>\n",
       "      <th>unique</th>\n",
       "      <td>NaN</td>\n",
       "      <td>NaN</td>\n",
       "      <td>4</td>\n",
       "      <td>NaN</td>\n",
       "      <td>6</td>\n",
       "      <td>NaN</td>\n",
       "      <td>NaN</td>\n",
       "      <td>NaN</td>\n",
       "      <td>NaN</td>\n",
       "      <td>2</td>\n",
       "      <td>NaN</td>\n",
       "    </tr>\n",
       "    <tr>\n",
       "      <th>top</th>\n",
       "      <td>NaN</td>\n",
       "      <td>NaN</td>\n",
       "      <td>RENT</td>\n",
       "      <td>NaN</td>\n",
       "      <td>EDUCATION</td>\n",
       "      <td>NaN</td>\n",
       "      <td>NaN</td>\n",
       "      <td>NaN</td>\n",
       "      <td>NaN</td>\n",
       "      <td>N</td>\n",
       "      <td>NaN</td>\n",
       "    </tr>\n",
       "    <tr>\n",
       "      <th>freq</th>\n",
       "      <td>NaN</td>\n",
       "      <td>NaN</td>\n",
       "      <td>16446</td>\n",
       "      <td>NaN</td>\n",
       "      <td>6453</td>\n",
       "      <td>NaN</td>\n",
       "      <td>NaN</td>\n",
       "      <td>NaN</td>\n",
       "      <td>NaN</td>\n",
       "      <td>26836</td>\n",
       "      <td>NaN</td>\n",
       "    </tr>\n",
       "    <tr>\n",
       "      <th>mean</th>\n",
       "      <td>27.734600</td>\n",
       "      <td>6.607485e+04</td>\n",
       "      <td>NaN</td>\n",
       "      <td>4.789686</td>\n",
       "      <td>NaN</td>\n",
       "      <td>9589.371106</td>\n",
       "      <td>11.011695</td>\n",
       "      <td>0.218164</td>\n",
       "      <td>0.170203</td>\n",
       "      <td>NaN</td>\n",
       "      <td>5.804211</td>\n",
       "    </tr>\n",
       "    <tr>\n",
       "      <th>std</th>\n",
       "      <td>6.348078</td>\n",
       "      <td>6.198312e+04</td>\n",
       "      <td>NaN</td>\n",
       "      <td>4.142630</td>\n",
       "      <td>NaN</td>\n",
       "      <td>6322.086646</td>\n",
       "      <td>3.240459</td>\n",
       "      <td>0.413006</td>\n",
       "      <td>0.106782</td>\n",
       "      <td>NaN</td>\n",
       "      <td>4.055001</td>\n",
       "    </tr>\n",
       "    <tr>\n",
       "      <th>min</th>\n",
       "      <td>20.000000</td>\n",
       "      <td>4.000000e+03</td>\n",
       "      <td>NaN</td>\n",
       "      <td>0.000000</td>\n",
       "      <td>NaN</td>\n",
       "      <td>500.000000</td>\n",
       "      <td>5.420000</td>\n",
       "      <td>0.000000</td>\n",
       "      <td>0.000000</td>\n",
       "      <td>NaN</td>\n",
       "      <td>2.000000</td>\n",
       "    </tr>\n",
       "    <tr>\n",
       "      <th>25%</th>\n",
       "      <td>23.000000</td>\n",
       "      <td>3.850000e+04</td>\n",
       "      <td>NaN</td>\n",
       "      <td>2.000000</td>\n",
       "      <td>NaN</td>\n",
       "      <td>5000.000000</td>\n",
       "      <td>7.900000</td>\n",
       "      <td>0.000000</td>\n",
       "      <td>0.090000</td>\n",
       "      <td>NaN</td>\n",
       "      <td>3.000000</td>\n",
       "    </tr>\n",
       "    <tr>\n",
       "      <th>50%</th>\n",
       "      <td>26.000000</td>\n",
       "      <td>5.500000e+04</td>\n",
       "      <td>NaN</td>\n",
       "      <td>4.000000</td>\n",
       "      <td>NaN</td>\n",
       "      <td>8000.000000</td>\n",
       "      <td>10.990000</td>\n",
       "      <td>0.000000</td>\n",
       "      <td>0.150000</td>\n",
       "      <td>NaN</td>\n",
       "      <td>4.000000</td>\n",
       "    </tr>\n",
       "    <tr>\n",
       "      <th>75%</th>\n",
       "      <td>30.000000</td>\n",
       "      <td>7.920000e+04</td>\n",
       "      <td>NaN</td>\n",
       "      <td>7.000000</td>\n",
       "      <td>NaN</td>\n",
       "      <td>12200.000000</td>\n",
       "      <td>13.470000</td>\n",
       "      <td>0.000000</td>\n",
       "      <td>0.230000</td>\n",
       "      <td>NaN</td>\n",
       "      <td>8.000000</td>\n",
       "    </tr>\n",
       "    <tr>\n",
       "      <th>max</th>\n",
       "      <td>144.000000</td>\n",
       "      <td>6.000000e+06</td>\n",
       "      <td>NaN</td>\n",
       "      <td>123.000000</td>\n",
       "      <td>NaN</td>\n",
       "      <td>35000.000000</td>\n",
       "      <td>23.220000</td>\n",
       "      <td>1.000000</td>\n",
       "      <td>0.830000</td>\n",
       "      <td>NaN</td>\n",
       "      <td>30.000000</td>\n",
       "    </tr>\n",
       "  </tbody>\n",
       "</table>\n",
       "</div>"
      ],
      "text/plain": [
       "                 Age        Income   Home    Emp_length     Intent  \\\n",
       "count   32581.000000  3.258100e+04  32581  31686.000000      32581   \n",
       "unique           NaN           NaN      4           NaN          6   \n",
       "top              NaN           NaN   RENT           NaN  EDUCATION   \n",
       "freq             NaN           NaN  16446           NaN       6453   \n",
       "mean       27.734600  6.607485e+04    NaN      4.789686        NaN   \n",
       "std         6.348078  6.198312e+04    NaN      4.142630        NaN   \n",
       "min        20.000000  4.000000e+03    NaN      0.000000        NaN   \n",
       "25%        23.000000  3.850000e+04    NaN      2.000000        NaN   \n",
       "50%        26.000000  5.500000e+04    NaN      4.000000        NaN   \n",
       "75%        30.000000  7.920000e+04    NaN      7.000000        NaN   \n",
       "max       144.000000  6.000000e+06    NaN    123.000000        NaN   \n",
       "\n",
       "              Amount          Rate        Status  Percent_income Default  \\\n",
       "count   32581.000000  29465.000000  32581.000000    32581.000000   32581   \n",
       "unique           NaN           NaN           NaN             NaN       2   \n",
       "top              NaN           NaN           NaN             NaN       N   \n",
       "freq             NaN           NaN           NaN             NaN   26836   \n",
       "mean     9589.371106     11.011695      0.218164        0.170203     NaN   \n",
       "std      6322.086646      3.240459      0.413006        0.106782     NaN   \n",
       "min       500.000000      5.420000      0.000000        0.000000     NaN   \n",
       "25%      5000.000000      7.900000      0.000000        0.090000     NaN   \n",
       "50%      8000.000000     10.990000      0.000000        0.150000     NaN   \n",
       "75%     12200.000000     13.470000      0.000000        0.230000     NaN   \n",
       "max     35000.000000     23.220000      1.000000        0.830000     NaN   \n",
       "\n",
       "         Cred_length  \n",
       "count   32581.000000  \n",
       "unique           NaN  \n",
       "top              NaN  \n",
       "freq             NaN  \n",
       "mean        5.804211  \n",
       "std         4.055001  \n",
       "min         2.000000  \n",
       "25%         3.000000  \n",
       "50%         4.000000  \n",
       "75%         8.000000  \n",
       "max        30.000000  "
      ]
     },
     "execution_count": 106,
     "metadata": {},
     "output_type": "execute_result"
    }
   ],
   "source": [
    "df.describe(include=\"all\")"
   ]
  },
  {
   "cell_type": "code",
   "execution_count": null,
   "id": "53297c99-e736-486e-a86a-c67596f83ffd",
   "metadata": {},
   "outputs": [],
   "source": []
  },
  {
   "cell_type": "code",
   "execution_count": 107,
   "id": "9a1cd790-43b1-44a0-8519-fa6c106c820d",
   "metadata": {},
   "outputs": [
    {
     "data": {
      "text/plain": [
       "(32581, 11)"
      ]
     },
     "execution_count": 107,
     "metadata": {},
     "output_type": "execute_result"
    }
   ],
   "source": [
    "df.shape"
   ]
  },
  {
   "cell_type": "code",
   "execution_count": 108,
   "id": "dfc1e6ec-46ea-4a78-9457-a0573e296d69",
   "metadata": {},
   "outputs": [
    {
     "name": "stdout",
     "output_type": "stream",
     "text": [
      "<class 'pandas.core.frame.DataFrame'>\n",
      "Index: 32581 entries, 0 to 32780\n",
      "Data columns (total 11 columns):\n",
      " #   Column          Non-Null Count  Dtype  \n",
      "---  ------          --------------  -----  \n",
      " 0   Age             32581 non-null  int64  \n",
      " 1   Income          32581 non-null  int64  \n",
      " 2   Home            32581 non-null  object \n",
      " 3   Emp_length      31686 non-null  float64\n",
      " 4   Intent          32581 non-null  object \n",
      " 5   Amount          32581 non-null  int64  \n",
      " 6   Rate            29465 non-null  float64\n",
      " 7   Status          32581 non-null  int64  \n",
      " 8   Percent_income  32581 non-null  float64\n",
      " 9   Default         32581 non-null  object \n",
      " 10  Cred_length     32581 non-null  int64  \n",
      "dtypes: float64(3), int64(5), object(3)\n",
      "memory usage: 3.0+ MB\n"
     ]
    }
   ],
   "source": [
    "df.info()"
   ]
  },
  {
   "cell_type": "code",
   "execution_count": 109,
   "id": "5c63e673-0389-49b9-a89d-0b498be5732b",
   "metadata": {},
   "outputs": [
    {
     "data": {
      "text/plain": [
       "3116"
      ]
     },
     "execution_count": 109,
     "metadata": {},
     "output_type": "execute_result"
    }
   ],
   "source": [
    "df.Rate.isnull().sum()\n",
    "#there are 3116 null values in Rate column"
   ]
  },
  {
   "cell_type": "code",
   "execution_count": null,
   "id": "538a2542-61ba-4146-8b87-4e4db1000fbd",
   "metadata": {},
   "outputs": [],
   "source": []
  },
  {
   "cell_type": "code",
   "execution_count": 111,
   "id": "04151400-91d7-4f06-b994-42e2103b049f",
   "metadata": {},
   "outputs": [],
   "source": [
    "median_value = df['Rate'].median()\n",
    "df['Rate'].fillna(median_value, inplace=True) #filling the missing value with the median value of the rate column"
   ]
  },
  {
   "cell_type": "code",
   "execution_count": null,
   "id": "475a9e3d-b949-4f6a-8542-f8772b7a6bf6",
   "metadata": {},
   "outputs": [],
   "source": []
  },
  {
   "cell_type": "code",
   "execution_count": 113,
   "id": "8d86d52d-c6d2-41f1-bb37-097792411ea7",
   "metadata": {},
   "outputs": [],
   "source": [
    "df.drop([\"Home\",\"Emp_length\",\"Intent\"],axis=1,inplace=True)\n",
    "#droping the cols"
   ]
  },
  {
   "cell_type": "code",
   "execution_count": 114,
   "id": "afd07f19-df2d-4de2-944a-23f9365710a6",
   "metadata": {},
   "outputs": [],
   "source": [
    "df.Default.replace({\"N\":0,\"Y\":1},inplace=True)"
   ]
  },
  {
   "cell_type": "code",
   "execution_count": null,
   "id": "0c5d04c1-f2d5-4e71-8153-17c740da57dd",
   "metadata": {},
   "outputs": [],
   "source": []
  },
  {
   "cell_type": "code",
   "execution_count": 115,
   "id": "eac5ffcc-a164-4b78-9ab8-e80463471273",
   "metadata": {},
   "outputs": [],
   "source": [
    "df.Age.replace(df.Age.mean(),inplace=True)"
   ]
  },
  {
   "cell_type": "code",
   "execution_count": null,
   "id": "1af42787-99d1-41a4-b09c-e489e52a1add",
   "metadata": {},
   "outputs": [],
   "source": []
  },
  {
   "cell_type": "code",
   "execution_count": 116,
   "id": "d719f3aa-0968-4da7-9382-bec32da89326",
   "metadata": {},
   "outputs": [
    {
     "data": {
      "text/plain": [
       "Age               0\n",
       "Income            0\n",
       "Amount            0\n",
       "Rate              0\n",
       "Status            0\n",
       "Percent_income    0\n",
       "Default           0\n",
       "Cred_length       0\n",
       "dtype: int64"
      ]
     },
     "execution_count": 116,
     "metadata": {},
     "output_type": "execute_result"
    }
   ],
   "source": [
    "df.isnull().sum()"
   ]
  },
  {
   "cell_type": "markdown",
   "id": "6d66ae2e-8536-45fa-a83d-0f38e1e03874",
   "metadata": {},
   "source": [
    "### Creating X and Y"
   ]
  },
  {
   "cell_type": "code",
   "execution_count": 118,
   "id": "30141348-405f-4dd6-aab1-06260bfd8173",
   "metadata": {},
   "outputs": [],
   "source": [
    "X=df.drop([\"Status\"],axis=1)\n",
    "Y=df.Status"
   ]
  },
  {
   "cell_type": "code",
   "execution_count": 119,
   "id": "4306bc2c-436e-4a65-a3a2-7cb25113cbe3",
   "metadata": {},
   "outputs": [
    {
     "data": {
      "text/plain": [
       "(32581, 7)"
      ]
     },
     "execution_count": 119,
     "metadata": {},
     "output_type": "execute_result"
    }
   ],
   "source": [
    "X.shape"
   ]
  },
  {
   "cell_type": "code",
   "execution_count": 120,
   "id": "9827ca37-165f-4501-a72c-f0eef8585e32",
   "metadata": {},
   "outputs": [
    {
     "data": {
      "text/plain": [
       "(32581,)"
      ]
     },
     "execution_count": 120,
     "metadata": {},
     "output_type": "execute_result"
    }
   ],
   "source": [
    "Y.shape"
   ]
  },
  {
   "cell_type": "code",
   "execution_count": 121,
   "id": "38f1b973-7dd5-43d1-892d-7afc89f05b26",
   "metadata": {},
   "outputs": [],
   "source": [
    "from sklearn.preprocessing import StandardScaler\n",
    "scaler=StandardScaler()\n",
    "scaler.fit(X)\n",
    "X=scaler.transform(X)"
   ]
  },
  {
   "cell_type": "markdown",
   "id": "1ea66bf3-4487-496e-925f-7c92b9b0df76",
   "metadata": {},
   "source": [
    "### Train Test Split"
   ]
  },
  {
   "cell_type": "code",
   "execution_count": 122,
   "id": "9723b690-e6c6-4f11-aabd-36458e85cd18",
   "metadata": {},
   "outputs": [],
   "source": [
    "from sklearn.model_selection import train_test_split\n",
    "#split the data into test and train\n",
    "X_train,X_test,Y_train,Y_test=train_test_split(X,Y,test_size=0.2,random_state=10)#ensuring the class dist ratio is mantained"
   ]
  },
  {
   "cell_type": "code",
   "execution_count": 123,
   "id": "31d1aac1-5a75-485a-bb6a-6f52875d7b36",
   "metadata": {},
   "outputs": [
    {
     "name": "stdout",
     "output_type": "stream",
     "text": [
      "(26064, 7)\n",
      "(26064,)\n",
      "(6517, 7)\n",
      "(6517,)\n"
     ]
    }
   ],
   "source": [
    "print(X_train.shape)\n",
    "print(Y_train.shape)\n",
    "print(X_test.shape)\n",
    "print(Y_test.shape)"
   ]
  },
  {
   "cell_type": "code",
   "execution_count": 124,
   "id": "0df94152-d953-44b3-960c-c434fe388433",
   "metadata": {},
   "outputs": [],
   "source": [
    "from sklearn.tree import DecisionTreeClassifier\n",
    "\n",
    "model_DT=DecisionTreeClassifier(random_state=10\n",
    "                               ,criterion=\"gini\",\n",
    "                               splitter=\"best\",\n",
    "                               min_samples_leaf=3,\n",
    "                               min_samples_split=5,\n",
    "                               max_depth=10,\n",
    "                               max_leaf_nodes=100)\n",
    "                               #max_max_features=0.6\n",
    "#min_samples_leaf,min_samples_split,max_depth,max_features,max_leaf_nodes\n",
    "#fit the model on the data and predict the values\n",
    "model_DT.fit(X_train,Y_train)\n",
    "Y_pred=model_DT.predict(X_test)\n",
    "#print(Y_pred)\n",
    "# print(list(zip(Y_test,Y_pred)))\n"
   ]
  },
  {
   "cell_type": "code",
   "execution_count": null,
   "id": "a0fec3c3-ca98-406d-a035-c80526ec6112",
   "metadata": {},
   "outputs": [],
   "source": []
  },
  {
   "cell_type": "code",
   "execution_count": null,
   "id": "9c6f40c1-1edd-41ac-a1f8-43287a55bda2",
   "metadata": {},
   "outputs": [],
   "source": []
  },
  {
   "cell_type": "markdown",
   "id": "7b23eba5-4e82-4056-80fe-645efa9325bd",
   "metadata": {},
   "source": [
    "### LogisticRegression"
   ]
  },
  {
   "cell_type": "code",
   "execution_count": 125,
   "id": "2d68e6b7-037e-445c-8d42-cec4beae7534",
   "metadata": {},
   "outputs": [],
   "source": [
    "\n",
    "from sklearn.linear_model import LogisticRegression\n",
    "\n",
    "classifier=LogisticRegression()\n",
    "#min_samples_leaf,min_samples_split,max_depth,max_features,max_leaf_nodes\n",
    "#fit the model on the data and predict the values\n",
    "classifier.fit(X_train,Y_train)\n",
    "Y_pred=classifier.predict(X_test)\n",
    "#print(Y_pred)\n",
    "# print(list(zip(Y_test,Y_pred)))\n"
   ]
  },
  {
   "cell_type": "code",
   "execution_count": 126,
   "id": "c63f8433-6120-4a81-82be-54cb8467db92",
   "metadata": {},
   "outputs": [
    {
     "name": "stdout",
     "output_type": "stream",
     "text": [
      "[[4809  248]\n",
      " [ 868  592]]\n",
      "Classification report: \n",
      "              precision    recall  f1-score   support\n",
      "\n",
      "           0       0.85      0.95      0.90      5057\n",
      "           1       0.70      0.41      0.51      1460\n",
      "\n",
      "    accuracy                           0.83      6517\n",
      "   macro avg       0.78      0.68      0.71      6517\n",
      "weighted avg       0.82      0.83      0.81      6517\n",
      "\n",
      "Accuracy of the model:  0.8287555623753261\n"
     ]
    }
   ],
   "source": [
    "from sklearn.metrics import confusion_matrix, accuracy_score, classification_report\n",
    " \n",
    "cfm=confusion_matrix(Y_test,Y_pred)\n",
    "print(cfm)\n",
    " \n",
    "print(\"Classification report: \")\n",
    " \n",
    "print(classification_report(Y_test,Y_pred))\n",
    " \n",
    "acc=accuracy_score(Y_test, Y_pred)\n",
    "print(\"Accuracy of the model: \",acc)"
   ]
  },
  {
   "cell_type": "code",
   "execution_count": null,
   "id": "4c6eaa62-c352-4d0c-b11a-c6dfa7c0a31e",
   "metadata": {},
   "outputs": [],
   "source": []
  },
  {
   "cell_type": "code",
   "execution_count": 127,
   "id": "0318f899-b94e-40e3-b93e-756fba750736",
   "metadata": {},
   "outputs": [],
   "source": [
    "#Reducing type 2 error "
   ]
  },
  {
   "cell_type": "code",
   "execution_count": 128,
   "id": "852e8333-42ab-4397-b699-50cd8c5fd8d7",
   "metadata": {},
   "outputs": [
    {
     "data": {
      "text/plain": [
       "array([[0.20807229, 0.79192771],\n",
       "       [0.97768239, 0.02231761],\n",
       "       [0.87059328, 0.12940672],\n",
       "       ...,\n",
       "       [0.78545759, 0.21454241],\n",
       "       [0.51957179, 0.48042821],\n",
       "       [0.67797976, 0.32202024]])"
      ]
     },
     "execution_count": 128,
     "metadata": {},
     "output_type": "execute_result"
    }
   ],
   "source": [
    "y_pred_prob = classifier.predict_proba(X_test)\n",
    "y_pred_prob "
   ]
  },
  {
   "cell_type": "code",
   "execution_count": 129,
   "id": "c2463683-f020-42ea-922f-b80fb1f64fda",
   "metadata": {},
   "outputs": [],
   "source": [
    "y_pred_class=[]\n",
    "for value in y_pred_prob[:,1]:\n",
    "    if value > 0.30:\n",
    "        y_pred_class.append(1)\n",
    "    else:\n",
    "        y_pred_class.append(0)"
   ]
  },
  {
   "cell_type": "code",
   "execution_count": 130,
   "id": "20c807db-3bfe-4e34-8a9c-83e1972123f5",
   "metadata": {},
   "outputs": [
    {
     "name": "stdout",
     "output_type": "stream",
     "text": [
      "[[4286  771]\n",
      " [ 495  965]]\n",
      "Accuracy of the model:  0.8057388368881387\n",
      "Classification report: \n",
      "              precision    recall  f1-score   support\n",
      "\n",
      "           0       0.90      0.85      0.87      5057\n",
      "           1       0.56      0.66      0.60      1460\n",
      "\n",
      "    accuracy                           0.81      6517\n",
      "   macro avg       0.73      0.75      0.74      6517\n",
      "weighted avg       0.82      0.81      0.81      6517\n",
      "\n"
     ]
    }
   ],
   "source": [
    "from sklearn.metrics import confusion_matrix, accuracy_score, classification_report\n",
    " \n",
    "cfm=confusion_matrix(Y_test,y_pred_class)\n",
    "print(cfm)\n",
    "acc=accuracy_score(Y_test, y_pred_class)\n",
    "print(\"Accuracy of the model: \",acc)\n",
    "print(\"Classification report: \")\n",
    "print(classification_report(Y_test,y_pred_class))"
   ]
  },
  {
   "cell_type": "code",
   "execution_count": null,
   "id": "1e322c29-3cc9-441e-9ee0-07d70b10e09b",
   "metadata": {},
   "outputs": [],
   "source": []
  },
  {
   "cell_type": "markdown",
   "id": "638af3dd-483e-4f0e-b381-891e99882570",
   "metadata": {},
   "source": [
    "### XGB"
   ]
  },
  {
   "cell_type": "code",
   "execution_count": 131,
   "id": "a7370886-e6b6-45dc-b5b9-274293a38c5f",
   "metadata": {},
   "outputs": [],
   "source": [
    "# Import the necessary library\n",
    "from xgboost import XGBClassifier\n",
    "\n",
    "# Create an XGBoost classifier object\n",
    "xgb_classifier = XGBClassifier(n_estimators=100, learning_rate=0.1, max_depth=5, subsample=0.8, random_state=10)\n",
    "\n",
    "# Fit the model on the training data\n",
    "xgb_classifier.fit(X_train, Y_train)\n",
    "\n",
    "# Predict the values on the test data\n",
    "Y_pred = xgb_classifier.predict(X_test)\n"
   ]
  },
  {
   "cell_type": "code",
   "execution_count": 132,
   "id": "6109d147-9017-4c17-bdde-850502c0f1d1",
   "metadata": {},
   "outputs": [
    {
     "name": "stdout",
     "output_type": "stream",
     "text": [
      "[[4768  289]\n",
      " [ 550  910]]\n",
      "Classification report: \n",
      "              precision    recall  f1-score   support\n",
      "\n",
      "           0       0.90      0.94      0.92      5057\n",
      "           1       0.76      0.62      0.68      1460\n",
      "\n",
      "    accuracy                           0.87      6517\n",
      "   macro avg       0.83      0.78      0.80      6517\n",
      "weighted avg       0.87      0.87      0.87      6517\n",
      "\n",
      "Accuracy of the model:  0.8712597821083321\n"
     ]
    }
   ],
   "source": [
    "from sklearn.metrics import confusion_matrix, accuracy_score, classification_report\n",
    " \n",
    "cfm=confusion_matrix(Y_test,Y_pred)\n",
    "print(cfm)\n",
    " \n",
    "print(\"Classification report: \")\n",
    " \n",
    "print(classification_report(Y_test,Y_pred))\n",
    " \n",
    "acc=accuracy_score(Y_test, Y_pred)\n",
    "print(\"Accuracy of the model: \",acc)"
   ]
  },
  {
   "cell_type": "markdown",
   "id": "5e09db48-19c2-47e1-8be2-58fe0cc4547d",
   "metadata": {},
   "source": [
    "### RandomForest"
   ]
  },
  {
   "cell_type": "code",
   "execution_count": 133,
   "id": "7bad1b16-5a5d-43ef-8aae-b64778e507b5",
   "metadata": {},
   "outputs": [],
   "source": [
    "# predicting using the Random_Forest_Classifier\n",
    "from sklearn.ensemble import RandomForestClassifier\n",
    " \n",
    "model_RandomForest=RandomForestClassifier(n_estimators=100,\n",
    "                                          random_state=10, bootstrap=True,\n",
    "                                         n_jobs=-1)\n",
    " \n",
    "#fit the model on the data and predict the values\n",
    "model_RandomForest.fit(X_train,Y_train)\n",
    " \n",
    "Y_pred=model_RandomForest.predict(X_test)"
   ]
  },
  {
   "cell_type": "code",
   "execution_count": 134,
   "id": "5fe3b39b-aed5-443b-8b79-73181dbed9e0",
   "metadata": {},
   "outputs": [
    {
     "name": "stdout",
     "output_type": "stream",
     "text": [
      "[[4773  284]\n",
      " [ 566  894]]\n",
      "Classification report: \n",
      "              precision    recall  f1-score   support\n",
      "\n",
      "           0       0.89      0.94      0.92      5057\n",
      "           1       0.76      0.61      0.68      1460\n",
      "\n",
      "    accuracy                           0.87      6517\n",
      "   macro avg       0.83      0.78      0.80      6517\n",
      "weighted avg       0.86      0.87      0.86      6517\n",
      "\n",
      "Accuracy of the model:  0.8695718889059383\n"
     ]
    }
   ],
   "source": [
    "from sklearn.metrics import confusion_matrix, accuracy_score, classification_report\n",
    " \n",
    "cfm=confusion_matrix(Y_test,Y_pred)\n",
    "print(cfm)\n",
    " \n",
    "print(\"Classification report: \")\n",
    " \n",
    "print(classification_report(Y_test,Y_pred))\n",
    " \n",
    "acc=accuracy_score(Y_test, Y_pred)\n",
    "print(\"Accuracy of the model: \",acc)"
   ]
  },
  {
   "cell_type": "code",
   "execution_count": null,
   "id": "6d15f253-0a14-4a55-8acc-7debca2fbdf2",
   "metadata": {},
   "outputs": [],
   "source": []
  },
  {
   "cell_type": "markdown",
   "id": "a5525157-1fad-4d05-a259-4668b2fcfc6c",
   "metadata": {},
   "source": [
    "### Decision Tree"
   ]
  },
  {
   "cell_type": "code",
   "execution_count": 135,
   "id": "38bf5ffc-dc4e-468f-bd22-b03a6e840a29",
   "metadata": {},
   "outputs": [],
   "source": [
    "from sklearn.tree import DecisionTreeClassifier\n",
    "model_dt = DecisionTreeClassifier(random_state=10,criterion='gini',splitter='best',min_samples_leaf=3,min_samples_split=5,max_depth=10,\n",
    "                                 max_leaf_nodes=100)#,max_features=0.6)\n",
    "\n",
    "\n",
    "model_dt.fit(X_train,Y_train)\n",
    "Y_pred = model_dt.predict(X_test)"
   ]
  },
  {
   "cell_type": "code",
   "execution_count": 136,
   "id": "ea395cfd-1b3a-43f8-9be7-7df7d610d003",
   "metadata": {},
   "outputs": [
    {
     "name": "stdout",
     "output_type": "stream",
     "text": [
      "[[4709  348]\n",
      " [ 548  912]]\n",
      "Classification report: \n",
      "              precision    recall  f1-score   support\n",
      "\n",
      "           0       0.90      0.93      0.91      5057\n",
      "           1       0.72      0.62      0.67      1460\n",
      "\n",
      "    accuracy                           0.86      6517\n",
      "   macro avg       0.81      0.78      0.79      6517\n",
      "weighted avg       0.86      0.86      0.86      6517\n",
      "\n",
      "Accuracy of the model:  0.8625134264232008\n"
     ]
    }
   ],
   "source": [
    "from sklearn.metrics import confusion_matrix, accuracy_score, classification_report\n",
    " \n",
    "cfm=confusion_matrix(Y_test,Y_pred)\n",
    "print(cfm)\n",
    " \n",
    "print(\"Classification report: \")\n",
    " \n",
    "print(classification_report(Y_test,Y_pred))\n",
    " \n",
    "acc=accuracy_score(Y_test, Y_pred)\n",
    "print(\"Accuracy of the model: \",acc)"
   ]
  },
  {
   "cell_type": "code",
   "execution_count": null,
   "id": "563c603e-1a24-4afc-ac63-91ca7c608f8f",
   "metadata": {},
   "outputs": [],
   "source": []
  },
  {
   "cell_type": "code",
   "execution_count": null,
   "id": "273cc925-6b64-44db-9ec0-f445c86e2fc2",
   "metadata": {},
   "outputs": [],
   "source": [
    "#Logistic model is giving  0.8057388368881387 accuracy with the least type 2 error among all the models"
   ]
  },
  {
   "cell_type": "code",
   "execution_count": null,
   "id": "05860409-1d57-417c-9088-64aef2f88210",
   "metadata": {},
   "outputs": [],
   "source": [
    "#XGB model is giving 0.8712597821083321 accuracy with the 550 type 2 error "
   ]
  },
  {
   "cell_type": "code",
   "execution_count": null,
   "id": "c002767e-5634-4cf4-8f01-3f6662605195",
   "metadata": {},
   "outputs": [],
   "source": [
    "#RandomForest model is giving 0.8695718889059383 accuracy with the 566 type 2 error"
   ]
  },
  {
   "cell_type": "code",
   "execution_count": null,
   "id": "8036fb0d-11bb-4cb6-8eea-0d7b25c04799",
   "metadata": {},
   "outputs": [],
   "source": [
    "#DecisionTree model is giving 0.8625134264232008 accuracy with the 548 type 2 error"
   ]
  },
  {
   "cell_type": "code",
   "execution_count": null,
   "id": "63ca9e75-1e27-4831-9b2c-70ebc6db33c7",
   "metadata": {},
   "outputs": [],
   "source": [
    "# XGBoost is the better model overall because it has higher accuracy, precision, and F1-Score,\n",
    "# despite a slightly lower recall compared to Logistic Regression.\n",
    "# It balances correctly predicting both positive and negative classes more effectively, making it the best choice for most scenarios."
   ]
  }
 ],
 "metadata": {
  "kernelspec": {
   "display_name": "Python 3 (ipykernel)",
   "language": "python",
   "name": "python3"
  },
  "language_info": {
   "codemirror_mode": {
    "name": "ipython",
    "version": 3
   },
   "file_extension": ".py",
   "mimetype": "text/x-python",
   "name": "python",
   "nbconvert_exporter": "python",
   "pygments_lexer": "ipython3",
   "version": "3.11.5"
  }
 },
 "nbformat": 4,
 "nbformat_minor": 5
}
